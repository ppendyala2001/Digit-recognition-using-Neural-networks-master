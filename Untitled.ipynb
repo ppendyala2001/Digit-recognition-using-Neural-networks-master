{
 "cells": [
  {
   "cell_type": "code",
   "execution_count": 1,
   "metadata": {},
   "outputs": [
    {
     "name": "stdout",
     "output_type": "stream",
     "text": [
      "Requirement already satisfied: tensorflow in c:\\users\\anirudh\\anaconda3\\lib\\site-packages (from -r requirements.txt (line 1)) (2.7.0)\n",
      "Requirement already satisfied: keras in c:\\users\\anirudh\\anaconda3\\lib\\site-packages (from -r requirements.txt (line 2)) (2.7.0)\n",
      "Collecting tk\n",
      "  Using cached tk-0.1.0-py3-none-any.whl (3.9 kB)\n",
      "Requirement already satisfied: flatbuffers<3.0,>=1.12 in c:\\users\\anirudh\\anaconda3\\lib\\site-packages (from tensorflow->-r requirements.txt (line 1)) (2.0)\n",
      "Requirement already satisfied: google-pasta>=0.1.1 in c:\\users\\anirudh\\anaconda3\\lib\\site-packages (from tensorflow->-r requirements.txt (line 1)) (0.2.0)\n",
      "Requirement already satisfied: tensorboard~=2.6 in c:\\users\\anirudh\\anaconda3\\lib\\site-packages (from tensorflow->-r requirements.txt (line 1)) (2.8.0)\n",
      "Requirement already satisfied: tensorflow-estimator<2.8,~=2.7.0rc0 in c:\\users\\anirudh\\anaconda3\\lib\\site-packages (from tensorflow->-r requirements.txt (line 1)) (2.7.0)\n",
      "Requirement already satisfied: libclang>=9.0.1 in c:\\users\\anirudh\\anaconda3\\lib\\site-packages (from tensorflow->-r requirements.txt (line 1)) (12.0.0)\n",
      "Requirement already satisfied: absl-py>=0.4.0 in c:\\users\\anirudh\\anaconda3\\lib\\site-packages (from tensorflow->-r requirements.txt (line 1)) (1.0.0)\n",
      "Requirement already satisfied: gast<0.5.0,>=0.2.1 in c:\\users\\anirudh\\anaconda3\\lib\\site-packages (from tensorflow->-r requirements.txt (line 1)) (0.4.0)\n",
      "Requirement already satisfied: numpy>=1.14.5 in c:\\users\\anirudh\\anaconda3\\lib\\site-packages (from tensorflow->-r requirements.txt (line 1)) (1.18.5)\n",
      "Requirement already satisfied: typing-extensions>=3.6.6 in c:\\users\\anirudh\\anaconda3\\lib\\site-packages (from tensorflow->-r requirements.txt (line 1)) (3.7.4.2)\n",
      "Requirement already satisfied: wrapt>=1.11.0 in c:\\users\\anirudh\\anaconda3\\lib\\site-packages (from tensorflow->-r requirements.txt (line 1)) (1.11.2)\n",
      "Requirement already satisfied: h5py>=2.9.0 in c:\\users\\anirudh\\anaconda3\\lib\\site-packages (from tensorflow->-r requirements.txt (line 1)) (2.10.0)\n",
      "Requirement already satisfied: keras-preprocessing>=1.1.1 in c:\\users\\anirudh\\anaconda3\\lib\\site-packages (from tensorflow->-r requirements.txt (line 1)) (1.1.2)\n",
      "Requirement already satisfied: protobuf>=3.9.2 in c:\\users\\anirudh\\anaconda3\\lib\\site-packages (from tensorflow->-r requirements.txt (line 1)) (3.19.3)\n",
      "Requirement already satisfied: grpcio<2.0,>=1.24.3 in c:\\users\\anirudh\\anaconda3\\lib\\site-packages (from tensorflow->-r requirements.txt (line 1)) (1.43.0)\n",
      "Requirement already satisfied: termcolor>=1.1.0 in c:\\users\\anirudh\\anaconda3\\lib\\site-packages (from tensorflow->-r requirements.txt (line 1)) (1.1.0)\n",
      "Requirement already satisfied: wheel<1.0,>=0.32.0 in c:\\users\\anirudh\\anaconda3\\lib\\site-packages (from tensorflow->-r requirements.txt (line 1)) (0.34.2)\n",
      "Requirement already satisfied: six>=1.12.0 in c:\\users\\anirudh\\anaconda3\\lib\\site-packages (from tensorflow->-r requirements.txt (line 1)) (1.15.0)\n",
      "Requirement already satisfied: tensorflow-io-gcs-filesystem>=0.21.0 in c:\\users\\anirudh\\anaconda3\\lib\\site-packages (from tensorflow->-r requirements.txt (line 1)) (0.23.1)\n",
      "Requirement already satisfied: opt-einsum>=2.3.2 in c:\\users\\anirudh\\anaconda3\\lib\\site-packages (from tensorflow->-r requirements.txt (line 1)) (3.3.0)\n",
      "Requirement already satisfied: astunparse>=1.6.0 in c:\\users\\anirudh\\anaconda3\\lib\\site-packages (from tensorflow->-r requirements.txt (line 1)) (1.6.3)\n",
      "Requirement already satisfied: markdown>=2.6.8 in c:\\users\\anirudh\\anaconda3\\lib\\site-packages (from tensorboard~=2.6->tensorflow->-r requirements.txt (line 1)) (3.3.6)\n",
      "Requirement already satisfied: google-auth<3,>=1.6.3 in c:\\users\\anirudh\\anaconda3\\lib\\site-packages (from tensorboard~=2.6->tensorflow->-r requirements.txt (line 1)) (2.3.3)\n",
      "Requirement already satisfied: tensorboard-data-server<0.7.0,>=0.6.0 in c:\\users\\anirudh\\anaconda3\\lib\\site-packages (from tensorboard~=2.6->tensorflow->-r requirements.txt (line 1)) (0.6.1)\n",
      "Requirement already satisfied: google-auth-oauthlib<0.5,>=0.4.1 in c:\\users\\anirudh\\anaconda3\\lib\\site-packages (from tensorboard~=2.6->tensorflow->-r requirements.txt (line 1)) (0.4.6)\n",
      "Requirement already satisfied: setuptools>=41.0.0 in c:\\users\\anirudh\\anaconda3\\lib\\site-packages (from tensorboard~=2.6->tensorflow->-r requirements.txt (line 1)) (49.2.0.post20200714)\n",
      "Requirement already satisfied: requests<3,>=2.21.0 in c:\\users\\anirudh\\anaconda3\\lib\\site-packages (from tensorboard~=2.6->tensorflow->-r requirements.txt (line 1)) (2.24.0)\n",
      "Requirement already satisfied: tensorboard-plugin-wit>=1.6.0 in c:\\users\\anirudh\\anaconda3\\lib\\site-packages (from tensorboard~=2.6->tensorflow->-r requirements.txt (line 1)) (1.8.1)\n",
      "Requirement already satisfied: werkzeug>=0.11.15 in c:\\users\\anirudh\\anaconda3\\lib\\site-packages (from tensorboard~=2.6->tensorflow->-r requirements.txt (line 1)) (1.0.1)\n",
      "Requirement already satisfied: importlib-metadata>=4.4; python_version < \"3.10\" in c:\\users\\anirudh\\anaconda3\\lib\\site-packages (from markdown>=2.6.8->tensorboard~=2.6->tensorflow->-r requirements.txt (line 1)) (4.10.1)\n",
      "Requirement already satisfied: rsa<5,>=3.1.4; python_version >= \"3.6\" in c:\\users\\anirudh\\anaconda3\\lib\\site-packages (from google-auth<3,>=1.6.3->tensorboard~=2.6->tensorflow->-r requirements.txt (line 1)) (4.8)\n",
      "Requirement already satisfied: pyasn1-modules>=0.2.1 in c:\\users\\anirudh\\anaconda3\\lib\\site-packages (from google-auth<3,>=1.6.3->tensorboard~=2.6->tensorflow->-r requirements.txt (line 1)) (0.2.8)\n",
      "Requirement already satisfied: cachetools<5.0,>=2.0.0 in c:\\users\\anirudh\\anaconda3\\lib\\site-packages (from google-auth<3,>=1.6.3->tensorboard~=2.6->tensorflow->-r requirements.txt (line 1)) (4.2.4)\n",
      "Requirement already satisfied: requests-oauthlib>=0.7.0 in c:\\users\\anirudh\\anaconda3\\lib\\site-packages (from google-auth-oauthlib<0.5,>=0.4.1->tensorboard~=2.6->tensorflow->-r requirements.txt (line 1)) (1.3.0)\n",
      "Requirement already satisfied: certifi>=2017.4.17 in c:\\users\\anirudh\\anaconda3\\lib\\site-packages (from requests<3,>=2.21.0->tensorboard~=2.6->tensorflow->-r requirements.txt (line 1)) (2020.6.20)\n",
      "Requirement already satisfied: idna<3,>=2.5 in c:\\users\\anirudh\\anaconda3\\lib\\site-packages (from requests<3,>=2.21.0->tensorboard~=2.6->tensorflow->-r requirements.txt (line 1)) (2.10)\n",
      "Requirement already satisfied: urllib3!=1.25.0,!=1.25.1,<1.26,>=1.21.1 in c:\\users\\anirudh\\anaconda3\\lib\\site-packages (from requests<3,>=2.21.0->tensorboard~=2.6->tensorflow->-r requirements.txt (line 1)) (1.25.9)\n",
      "Requirement already satisfied: chardet<4,>=3.0.2 in c:\\users\\anirudh\\anaconda3\\lib\\site-packages (from requests<3,>=2.21.0->tensorboard~=2.6->tensorflow->-r requirements.txt (line 1)) (3.0.4)\n",
      "Requirement already satisfied: zipp>=0.5 in c:\\users\\anirudh\\anaconda3\\lib\\site-packages (from importlib-metadata>=4.4; python_version < \"3.10\"->markdown>=2.6.8->tensorboard~=2.6->tensorflow->-r requirements.txt (line 1)) (3.1.0)\n",
      "Requirement already satisfied: pyasn1>=0.1.3 in c:\\users\\anirudh\\anaconda3\\lib\\site-packages (from rsa<5,>=3.1.4; python_version >= \"3.6\"->google-auth<3,>=1.6.3->tensorboard~=2.6->tensorflow->-r requirements.txt (line 1)) (0.4.8)\n",
      "Requirement already satisfied: oauthlib>=3.0.0 in c:\\users\\anirudh\\anaconda3\\lib\\site-packages (from requests-oauthlib>=0.7.0->google-auth-oauthlib<0.5,>=0.4.1->tensorboard~=2.6->tensorflow->-r requirements.txt (line 1)) (3.1.1)\n",
      "Installing collected packages: tk\n",
      "Successfully installed tk-0.1.0\n",
      "Note: you may need to restart the kernel to use updated packages.\n"
     ]
    },
    {
     "name": "stderr",
     "output_type": "stream",
     "text": [
      "WARNING: Retrying (Retry(total=4, connect=None, read=None, redirect=None, status=None)) after connection broken by 'ProtocolError('Connection aborted.', ConnectionResetError(10054, 'An existing connection was forcibly closed by the remote host', None, 10054, None))': /simple/tk/\n",
      "WARNING: Retrying (Retry(total=3, connect=None, read=None, redirect=None, status=None)) after connection broken by 'ProtocolError('Connection aborted.', ConnectionResetError(10054, 'An existing connection was forcibly closed by the remote host', None, 10054, None))': /simple/tk/\n",
      "WARNING: Retrying (Retry(total=2, connect=None, read=None, redirect=None, status=None)) after connection broken by 'ProtocolError('Connection aborted.', ConnectionResetError(10054, 'An existing connection was forcibly closed by the remote host', None, 10054, None))': /simple/tk/\n"
     ]
    }
   ],
   "source": [
    "pip install -r requirements.txt"
   ]
  },
  {
   "cell_type": "code",
   "execution_count": 2,
   "metadata": {},
   "outputs": [
    {
     "ename": "SyntaxError",
     "evalue": "invalid syntax (<ipython-input-2-bf74a9e2cf81>, line 1)",
     "output_type": "error",
     "traceback": [
      "\u001b[1;36m  File \u001b[1;32m\"<ipython-input-2-bf74a9e2cf81>\"\u001b[1;36m, line \u001b[1;32m1\u001b[0m\n\u001b[1;33m    python testing_input.py\u001b[0m\n\u001b[1;37m           ^\u001b[0m\n\u001b[1;31mSyntaxError\u001b[0m\u001b[1;31m:\u001b[0m invalid syntax\n"
     ]
    }
   ],
   "source": [
    "python testing_input.py"
   ]
  },
  {
   "cell_type": "code",
   "execution_count": null,
   "metadata": {},
   "outputs": [],
   "source": []
  }
 ],
 "metadata": {
  "kernelspec": {
   "display_name": "Python 3",
   "language": "python",
   "name": "python3"
  },
  "language_info": {
   "codemirror_mode": {
    "name": "ipython",
    "version": 3
   },
   "file_extension": ".py",
   "mimetype": "text/x-python",
   "name": "python",
   "nbconvert_exporter": "python",
   "pygments_lexer": "ipython3",
   "version": "3.8.3"
  }
 },
 "nbformat": 4,
 "nbformat_minor": 4
}
