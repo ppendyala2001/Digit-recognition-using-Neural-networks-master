{
 "cells": [
  {
   "cell_type": "code",
   "execution_count": 1,
   "metadata": {
    "scrolled": true
   },
   "outputs": [
    {
     "name": "stdout",
     "output_type": "stream",
     "text": [
      "Epoch 1/10\n",
      "300/300 - 2s - loss: 0.2783 - accuracy: 0.9218 - val_loss: 0.1395 - val_accuracy: 0.9588 - 2s/epoch - 8ms/step\n",
      "Epoch 2/10\n",
      "300/300 - 2s - loss: 0.1090 - accuracy: 0.9690 - val_loss: 0.0935 - val_accuracy: 0.9721 - 2s/epoch - 5ms/step\n",
      "Epoch 3/10\n",
      "300/300 - 2s - loss: 0.0719 - accuracy: 0.9790 - val_loss: 0.0763 - val_accuracy: 0.9771 - 2s/epoch - 5ms/step\n",
      "Epoch 4/10\n",
      "300/300 - 2s - loss: 0.0511 - accuracy: 0.9854 - val_loss: 0.0645 - val_accuracy: 0.9801 - 2s/epoch - 5ms/step\n",
      "Epoch 5/10\n",
      "300/300 - 2s - loss: 0.0376 - accuracy: 0.9888 - val_loss: 0.0631 - val_accuracy: 0.9800 - 2s/epoch - 6ms/step\n",
      "Epoch 6/10\n",
      "300/300 - 2s - loss: 0.0262 - accuracy: 0.9926 - val_loss: 0.0678 - val_accuracy: 0.9793 - 2s/epoch - 6ms/step\n",
      "Epoch 7/10\n",
      "300/300 - 2s - loss: 0.0196 - accuracy: 0.9951 - val_loss: 0.0581 - val_accuracy: 0.9817 - 2s/epoch - 6ms/step\n",
      "Epoch 8/10\n",
      "300/300 - 2s - loss: 0.0145 - accuracy: 0.9967 - val_loss: 0.0620 - val_accuracy: 0.9810 - 2s/epoch - 6ms/step\n",
      "Epoch 9/10\n",
      "300/300 - 2s - loss: 0.0104 - accuracy: 0.9981 - val_loss: 0.0603 - val_accuracy: 0.9814 - 2s/epoch - 7ms/step\n",
      "Epoch 10/10\n",
      "300/300 - 2s - loss: 0.0074 - accuracy: 0.9987 - val_loss: 0.0603 - val_accuracy: 0.9816 - 2s/epoch - 7ms/step\n",
      "Baseline Error: 1.84%\n"
     ]
    }
   ],
   "source": [
    "import keras\n",
    "from keras.datasets import mnist\n",
    "from keras.models import Sequential\n",
    "from keras.layers import Dense\n",
    "from keras.utils import np_utils\n",
    "# load data\n",
    "(X_train, y_train), (X_test, y_test) = mnist.load_data()\n",
    "# flatten 28*28 images to a 784 vector for each image\n",
    "num_pixels = X_train.shape[1] * X_train.shape[2]\n",
    "X_train = X_train.reshape((X_train.shape[0], num_pixels)).astype('float32')\n",
    "X_test = X_test.reshape((X_test.shape[0], num_pixels)).astype('float32')\n",
    "# normalize inputs from 0-255 to 0-1\n",
    "X_train = X_train / 255\n",
    "X_test = X_test / 255\n",
    "# one hot encode outputs\n",
    "y_train = np_utils.to_categorical(y_train)\n",
    "y_test = np_utils.to_categorical(y_test)\n",
    "num_classes = y_test.shape[1]\n",
    "# define baseline model\n",
    "def baseline_model():\n",
    "\t# create model\n",
    "\tmodel = Sequential()\n",
    "\tmodel.add(Dense(num_pixels, input_dim=num_pixels, kernel_initializer='normal', activation='relu'))\n",
    "\tmodel.add(Dense(num_classes, kernel_initializer='normal', activation='softmax'))\n",
    "\t# Compile model\n",
    "\tmodel.compile(loss='categorical_crossentropy', optimizer='adam', metrics=['accuracy'])\n",
    "\treturn model\n",
    "# build the model\n",
    "model = baseline_model()\n",
    "# Fit the model\n",
    "model.fit(X_train, y_train, validation_data=(X_test, y_test), epochs=10, batch_size=200, verbose=2)\n",
    "# Final evaluation of the model\n",
    "scores = model.evaluate(X_test, y_test, verbose=0)\n",
    "print(\"Baseline Error: %.2f%%\" % (100-scores[1]*100))"
   ]
  },
  {
   "cell_type": "code",
   "execution_count": 2,
   "metadata": {},
   "outputs": [
    {
     "name": "stdout",
     "output_type": "stream",
     "text": [
      "Test loss: 0.060268133878707886\n",
      "Test accuracy: 0.9815999865531921\n"
     ]
    }
   ],
   "source": [
    "score = model.evaluate(X_test, y_test, verbose=0)\n",
    "print('Test loss:', score[0])\n",
    "print('Test accuracy:', score[1])"
   ]
  },
  {
   "cell_type": "code",
   "execution_count": 6,
   "metadata": {},
   "outputs": [],
   "source": [
    "from keras.models import load_model\n",
    "from tkinter import *\n",
    "import tkinter as tk\n",
    "import win32gui\n",
    "from PIL import ImageGrab, ImageOps\n",
    "import numpy as np\n",
    "\n",
    "model = load_model('mnist.h5')\n",
    "\n",
    "def predict_digit(img):\n",
    "#resize image to 28×28 pixels\n",
    "        img = img.resize((28,28))\n",
    "        #convert rgb to grayscale\n",
    "        img = img.convert('L')\n",
    "        img = ImageOps.invert(img)\n",
    "        img = np.array(img)\n",
    "        #reshaping to support our model input and normalizing\n",
    "        img = img.reshape(1,28,28,1)\n",
    "        img = img/255.0\n",
    "        #predicting the class\n",
    "        res = model.predict([img])[0]\n",
    "        return np.argmax(res), max(res)\n",
    "\n",
    "class App(tk.Tk):\n",
    "    def __init__(self):\n",
    "        tk.Tk.__init__(self)\n",
    "\n",
    "        self.x = self.y = 0\n",
    "\n",
    "        # Creating elements\n",
    "        self.canvas = tk.Canvas(self, width=300, height=300, bg = \"white\", cursor=\"cross\")\n",
    "        self.label = tk.Label(self, text=\"Thinking..\", font=(\"Helvetica\", 48))\n",
    "        self.classify_btn = tk.Button(self, text = \"Recognise\", command =         self.classify_handwriting) \n",
    "        self.button_clear = tk.Button(self, text = \"Clear\", command = self.clear_all)\n",
    "\n",
    "        # Grid structure\n",
    "        self.canvas.grid(row=0, column=0, pady=2, sticky=W, )\n",
    "        self.label.grid(row=0, column=1,pady=2, padx=2)\n",
    "        self.classify_btn.grid(row=1, column=1, pady=2, padx=2)\n",
    "        self.button_clear.grid(row=1, column=0, pady=2)\n",
    "\n",
    "        #self.canvas.bind(\"<Motion>\", self.start_pos)\n",
    "        self.canvas.bind(\"<B1-Motion>\", self.draw_lines)\n",
    "\n",
    "    def clear_all(self):\n",
    "        self.canvas.delete(\"all\")\n",
    "\n",
    "    def classify_handwriting(self):\n",
    "        HWND = self.canvas.winfo_id() # get the handle of the canvas\n",
    "        rect = win32gui.GetWindowRect(HWND) # get the coordinate of the canvas\n",
    "        im = ImageGrab.grab(rect)\n",
    "\n",
    "        digit, acc = predict_digit(im)\n",
    "        self.label.configure(text= str(digit)+', '+ str(int(acc*100))+'%')\n",
    "\n",
    "    def draw_lines(self, event):\n",
    "        self.x = event.x\n",
    "        self.y = event.y\n",
    "        r=8\n",
    "        self.canvas.create_oval(self.x-r, self.y-r, self.x + r, self.y + r, fill='black')\n",
    "\n",
    "app = App()\n",
    "mainloop()"
   ]
  },
  {
   "cell_type": "code",
   "execution_count": null,
   "metadata": {},
   "outputs": [],
   "source": []
  }
 ],
 "metadata": {
  "kernelspec": {
   "display_name": "Python 3",
   "language": "python",
   "name": "python3"
  },
  "language_info": {
   "codemirror_mode": {
    "name": "ipython",
    "version": 3
   },
   "file_extension": ".py",
   "mimetype": "text/x-python",
   "name": "python",
   "nbconvert_exporter": "python",
   "pygments_lexer": "ipython3",
   "version": "3.8.3"
  }
 },
 "nbformat": 4,
 "nbformat_minor": 4
}
